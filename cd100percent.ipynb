{
 "cells": [
  {
   "cell_type": "markdown",
   "metadata": {},
   "source": [
    "# Tracing Rumours by analyzing social media data"
   ]
  },
  {
   "cell_type": "markdown",
   "metadata": {},
   "source": [
    "## Importing necessary libraries"
   ]
  },
  {
   "cell_type": "code",
   "execution_count": 158,
   "metadata": {},
   "outputs": [],
   "source": [
    "import pandas as pd\n",
    "import numpy as np\n",
    "import matplotlib.pyplot as plt\n",
    "import networkx as nx\n",
    "import math\n",
    "import pygraphviz\n",
    "from networkx.drawing.nx_agraph import graphviz_layout\n",
    "from collections import defaultdict \n",
    "import itertools\n",
    "from pylab import rcParams\n",
    "import random"
   ]
  },
  {
   "cell_type": "markdown",
   "metadata": {},
   "source": [
    "## Importing input file"
   ]
  },
  {
   "cell_type": "code",
   "execution_count": 159,
   "metadata": {},
   "outputs": [
    {
     "data": {
      "text/html": [
       "<div>\n",
       "<style scoped>\n",
       "    .dataframe tbody tr th:only-of-type {\n",
       "        vertical-align: middle;\n",
       "    }\n",
       "\n",
       "    .dataframe tbody tr th {\n",
       "        vertical-align: top;\n",
       "    }\n",
       "\n",
       "    .dataframe thead th {\n",
       "        text-align: right;\n",
       "    }\n",
       "</style>\n",
       "<table border=\"1\" class=\"dataframe\">\n",
       "  <thead>\n",
       "    <tr style=\"text-align: right;\">\n",
       "      <th></th>\n",
       "      <th>A</th>\n",
       "      <th>B</th>\n",
       "      <th>06:00</th>\n",
       "      <th>hii</th>\n",
       "    </tr>\n",
       "  </thead>\n",
       "  <tbody>\n",
       "    <tr>\n",
       "      <th>0</th>\n",
       "      <td>B</td>\n",
       "      <td>A</td>\n",
       "      <td>06:01</td>\n",
       "      <td>hello bro</td>\n",
       "    </tr>\n",
       "    <tr>\n",
       "      <th>1</th>\n",
       "      <td>A</td>\n",
       "      <td>B</td>\n",
       "      <td>06:02</td>\n",
       "      <td>how are you ?</td>\n",
       "    </tr>\n",
       "    <tr>\n",
       "      <th>2</th>\n",
       "      <td>B</td>\n",
       "      <td>A</td>\n",
       "      <td>06:03</td>\n",
       "      <td>fyn and u?</td>\n",
       "    </tr>\n",
       "    <tr>\n",
       "      <th>3</th>\n",
       "      <td>A</td>\n",
       "      <td>B</td>\n",
       "      <td>06:04</td>\n",
       "      <td>fyn</td>\n",
       "    </tr>\n",
       "    <tr>\n",
       "      <th>4</th>\n",
       "      <td>B</td>\n",
       "      <td>A</td>\n",
       "      <td>06:05</td>\n",
       "      <td>bro ! have you heard the news</td>\n",
       "    </tr>\n",
       "    <tr>\n",
       "      <th>...</th>\n",
       "      <td>...</td>\n",
       "      <td>...</td>\n",
       "      <td>...</td>\n",
       "      <td>...</td>\n",
       "    </tr>\n",
       "    <tr>\n",
       "      <th>73</th>\n",
       "      <td>E</td>\n",
       "      <td>C</td>\n",
       "      <td>11:45</td>\n",
       "      <td>Finally feeling good!!</td>\n",
       "    </tr>\n",
       "    <tr>\n",
       "      <th>74</th>\n",
       "      <td>E</td>\n",
       "      <td>K</td>\n",
       "      <td>11:45</td>\n",
       "      <td>Schools reopen next month</td>\n",
       "    </tr>\n",
       "    <tr>\n",
       "      <th>75</th>\n",
       "      <td>E</td>\n",
       "      <td>L</td>\n",
       "      <td>11:45</td>\n",
       "      <td>Schools reopen next month</td>\n",
       "    </tr>\n",
       "    <tr>\n",
       "      <th>76</th>\n",
       "      <td>E</td>\n",
       "      <td>M</td>\n",
       "      <td>11:45</td>\n",
       "      <td>Schools reopen next month</td>\n",
       "    </tr>\n",
       "    <tr>\n",
       "      <th>77</th>\n",
       "      <td>E</td>\n",
       "      <td>N</td>\n",
       "      <td>11:45</td>\n",
       "      <td>Schools reopen next month</td>\n",
       "    </tr>\n",
       "  </tbody>\n",
       "</table>\n",
       "<p>78 rows × 4 columns</p>\n",
       "</div>"
      ],
      "text/plain": [
       "    A  B  06:00                            hii\n",
       "0   B  A  06:01                      hello bro\n",
       "1   A  B  06:02                  how are you ?\n",
       "2   B  A  06:03                     fyn and u?\n",
       "3   A  B  06:04                            fyn\n",
       "4   B  A  06:05  bro ! have you heard the news\n",
       ".. .. ..    ...                            ...\n",
       "73  E  C  11:45         Finally feeling good!!\n",
       "74  E  K  11:45      Schools reopen next month\n",
       "75  E  L  11:45      Schools reopen next month\n",
       "76  E  M  11:45      Schools reopen next month\n",
       "77  E  N  11:45      Schools reopen next month\n",
       "\n",
       "[78 rows x 4 columns]"
      ]
     },
     "execution_count": 159,
     "metadata": {},
     "output_type": "execute_result"
    }
   ],
   "source": [
    "data = pd.read_csv('input.csv')\n",
    "data"
   ]
  },
  {
   "cell_type": "markdown",
   "metadata": {},
   "source": [
    "## Data Preprocessing - Module 1"
   ]
  },
  {
   "cell_type": "code",
   "execution_count": 160,
   "metadata": {},
   "outputs": [],
   "source": [
    "def datapreprocessing(data):\n",
    "    ip = np.array(data)[:,:]\n",
    "\n",
    "    printedSet = set()\n",
    "    printedDict = {}\n",
    "    i = 0\n",
    "    for x in ip:\n",
    "        if x[3] not in printedSet:\n",
    "            print(i+1,')',x[3])\n",
    "            printedSet.add(x[3])\n",
    "            printedDict[i] = x[3]\n",
    "            i+=1\n",
    "\n",
    "    trace_msg = int(input(\"Message to be traced: \")) - 1\n",
    "    rows,cols= np.where(ip==printedDict[trace_msg])\n",
    "    ip = ip[rows]\n",
    "    return ip"
   ]
  },
  {
   "cell_type": "code",
   "execution_count": 161,
   "metadata": {
    "scrolled": false
   },
   "outputs": [
    {
     "name": "stdout",
     "output_type": "stream",
     "text": [
      "1 ) hello bro\n",
      "2 ) how are you ?\n",
      "3 ) fyn and u?\n",
      "4 ) fyn\n",
      "5 ) bro ! have you heard the news\n",
      "6 ) what news?\n",
      "7 ) ronaldo is taking retirement next week.\n",
      "8 ) OMG! thats so sad.\n",
      "9 ) i am a big fan of ronaldo and i am sure that he is not taking his retirement next week \n",
      "10 ) but my friend told that he is retiring next week.\n",
      "11 ) please dont spread fake news. confirm the news before spreding it.\n",
      "12 ) ok\n",
      "13 ) dont eat chicken.corona virus can spread through chicken\n",
      "14 ) OMG really\n",
      "15 ) yes.dont eat chicken\n",
      "16 ) ok.thanks for informing\n",
      "17 ) spred this news to your friends and make sure they wont get affected.\n",
      "18 ) no thats not true. i am a virologist and i am sure that corona virus wont spred through chicken.\n",
      "19 ) ohh sorry uncle my friend sent me that msg.\n",
      "20 ) we can eat chicken.chicken provides protiens that helps to increase our immunity system and can face the corona virus.\n",
      "21 ) ok uncle.i will inform this to my friend.\n",
      "22 ) what are you doing?\n",
      "23 ) i am preparing for the exam\n",
      "24 ) but tmro we dont have any exam.\n",
      "25 ) we have physics exam on 5th period\n",
      "26 ) mam has postponed the physics exam to the next monday\n",
      "27 ) i am feeling so relief .my friends and i were worried about the exam .we haven't completed 2 chapters\n",
      "28 ) we still have one week . relax yourself and prepare well and also inform to your friends\n",
      "29 ) ok \n",
      "30 ) thanks for informing.\n",
      "31 ) no problem..\n",
      "32 ) Person J died \n",
      "33 ) We are going to miss him\n",
      "34 ) Convey to all friends\n",
      "35 ) Person J died\n",
      "36 ) Instagram will remove the reels feature in the new update\n",
      "37 ) Schools reopen next month\n",
      "38 ) Finally feeling good!!\n",
      "Message to be traced: 7\n"
     ]
    },
    {
     "data": {
      "text/plain": [
       "array([['B', 'A', '06:07', 'ronaldo is taking retirement next week.'],\n",
       "       ['A', 'C', '06:08', 'ronaldo is taking retirement next week.'],\n",
       "       ['A', 'D', '06:08', 'ronaldo is taking retirement next week.'],\n",
       "       ['A', 'E', '06:08', 'ronaldo is taking retirement next week.'],\n",
       "       ['A', 'F', '06:08', 'ronaldo is taking retirement next week.'],\n",
       "       ['A', 'G', '06:08', 'ronaldo is taking retirement next week.'],\n",
       "       ['A', 'H', '06:08', 'ronaldo is taking retirement next week.'],\n",
       "       ['F', 'E', '06:09', 'ronaldo is taking retirement next week.'],\n",
       "       ['F', 'H', '06:09', 'ronaldo is taking retirement next week.'],\n",
       "       ['F', 'G', '06:09', 'ronaldo is taking retirement next week.'],\n",
       "       ['G', 'I', '06:10', 'ronaldo is taking retirement next week.'],\n",
       "       ['E', 'I', '06:10', 'ronaldo is taking retirement next week.'],\n",
       "       ['G', 'J', '06:10', 'ronaldo is taking retirement next week.']],\n",
       "      dtype=object)"
      ]
     },
     "execution_count": 161,
     "metadata": {},
     "output_type": "execute_result"
    }
   ],
   "source": [
    "preprocessed_data = datapreprocessing(data)\n",
    "preprocessed_data"
   ]
  },
  {
   "cell_type": "markdown",
   "metadata": {},
   "source": [
    "## Contact Sequence - Module 2"
   ]
  },
  {
   "cell_type": "code",
   "execution_count": 162,
   "metadata": {},
   "outputs": [],
   "source": [
    "def contactSequence(preprocessed_data):\n",
    "    graph = {x[0]: [] for x in preprocessed_data}\n",
    "    for x in preprocessed_data:\n",
    "        graph[x[0]]+=[x[1],x[2]],\n",
    "    for x in graph:\n",
    "        print(x, ' : ', graph[x])"
   ]
  },
  {
   "cell_type": "code",
   "execution_count": 163,
   "metadata": {},
   "outputs": [
    {
     "name": "stdout",
     "output_type": "stream",
     "text": [
      "Contact sequence:\n",
      "\n",
      "B  :  [['A', '06:07']]\n",
      "A  :  [['C', '06:08'], ['D', '06:08'], ['E', '06:08'], ['F', '06:08'], ['G', '06:08'], ['H', '06:08']]\n",
      "F  :  [['E', '06:09'], ['H', '06:09'], ['G', '06:09']]\n",
      "G  :  [['I', '06:10'], ['J', '06:10']]\n",
      "E  :  [['I', '06:10']]\n"
     ]
    }
   ],
   "source": [
    "print(\"Contact sequence:\\n\")\n",
    "contactSequence(preprocessed_data)"
   ]
  },
  {
   "cell_type": "markdown",
   "metadata": {},
   "source": [
    "## Temporal Network Construction - Module 3"
   ]
  },
  {
   "cell_type": "code",
   "execution_count": 164,
   "metadata": {},
   "outputs": [],
   "source": [
    "def constructNetwork(data):\n",
    "    g = nx.DiGraph()\n",
    "    for x in data:\n",
    "        g.add_node(x[0])\n",
    "        g.add_node(x[1])\n",
    "        g.add_edge(x[0],x[1],time=x[2])\n",
    "    pos =graphviz_layout(g, prog='dot')\n",
    "    nx.draw(g, pos, node_color=\"lightgrey\", with_labels=1)\n",
    "    nx.draw_networkx_edge_labels(g,pos)\n",
    "    plt.show()\n",
    "    return g"
   ]
  },
  {
   "cell_type": "code",
   "execution_count": 165,
   "metadata": {
    "scrolled": false
   },
   "outputs": [
    {
     "name": "stdout",
     "output_type": "stream",
     "text": [
      "Temporal Network:\n",
      "\n"
     ]
    },
    {
     "data": {
      "image/png": "[encoded data removed]",
      "text/plain": [
       "<Figure size 720x720 with 1 Axes>"
      ]
     },
     "metadata": {},
     "output_type": "display_data"
    }
   ],
   "source": [
    "print(\"Temporal Network:\\n\")\n",
    "rcParams['figure.figsize'] = [10,10]\n",
    "tracegraph = constructNetwork(preprocessed_data)"
   ]
  },
  {
   "cell_type": "markdown",
   "metadata": {},
   "source": [
    "## Identification of Time Respecting Paths - Module 4"
   ]
  },
  {
   "cell_type": "code",
   "execution_count": 166,
   "metadata": {
    "scrolled": false
   },
   "outputs": [
    {
     "name": "stdout",
     "output_type": "stream",
     "text": [
      "Time respecting paths:\n",
      "['B', 'A', 'C']\n"
     ]
    },
    {
     "data": {
      "image/png": "[encoded data removed]",
      "text/plain": [
       "<Figure size 144x72 with 1 Axes>"
      ]
     },
     "metadata": {},
     "output_type": "display_data"
    },
    {
     "name": "stdout",
     "output_type": "stream",
     "text": [
      "['B', 'A', 'D']\n"
     ]
    },
    {
     "data": {
      "image/png": "[encoded data removed]",
      "text/plain": [
       "<Figure size 144x72 with 1 Axes>"
      ]
     },
     "metadata": {},
     "output_type": "display_data"
    },
    {
     "name": "stdout",
     "output_type": "stream",
     "text": [
      "['B', 'A', 'E', 'I']\n"
     ]
    },
    {
     "data": {
      "image/png": "[encoded data removed]",
      "text/plain": [
       "<Figure size 144x72 with 1 Axes>"
      ]
     },
     "metadata": {},
     "output_type": "display_data"
    },
    {
     "name": "stdout",
     "output_type": "stream",
     "text": [
      "['B', 'A', 'F', 'E', 'I']\n"
     ]
    },
    {
     "data": {
      "image/png": "[encoded data removed]",
      "text/plain": [
       "<Figure size 144x72 with 1 Axes>"
      ]
     },
     "metadata": {},
     "output_type": "display_data"
    },
    {
     "name": "stdout",
     "output_type": "stream",
     "text": [
      "['B', 'A', 'F', 'H']\n"
     ]
    },
    {
     "data": {
      "image/png": "[encoded data removed]",
      "text/plain": [
       "<Figure size 144x72 with 1 Axes>"
      ]
     },
     "metadata": {},
     "output_type": "display_data"
    },
    {
     "name": "stdout",
     "output_type": "stream",
     "text": [
      "['B', 'A', 'F', 'G', 'I']\n"
     ]
    },
    {
     "data": {
      "image/png": "[encoded data removed]",
      "text/plain": [
       "<Figure size 144x72 with 1 Axes>"
      ]
     },
     "metadata": {},
     "output_type": "display_data"
    },
    {
     "name": "stdout",
     "output_type": "stream",
     "text": [
      "['B', 'A', 'F', 'G', 'J']\n"
     ]
    },
    {
     "data": {
      "image/png": "[encoded data removed]",
      "text/plain": [
       "<Figure size 144x72 with 1 Axes>"
      ]
     },
     "metadata": {},
     "output_type": "display_data"
    },
    {
     "name": "stdout",
     "output_type": "stream",
     "text": [
      "['B', 'A', 'G', 'I']\n"
     ]
    },
    {
     "data": {
      "image/png": "[encoded data removed]",
      "text/plain": [
       "<Figure size 144x72 with 1 Axes>"
      ]
     },
     "metadata": {},
     "output_type": "display_data"
    },
    {
     "name": "stdout",
     "output_type": "stream",
     "text": [
      "['B', 'A', 'G', 'J']\n"
     ]
    },
    {
     "data": {
      "image/png": "[encoded data removed]",
      "text/plain": [
       "<Figure size 144x72 with 1 Axes>"
      ]
     },
     "metadata": {},
     "output_type": "display_data"
    },
    {
     "name": "stdout",
     "output_type": "stream",
     "text": [
      "['B', 'A', 'H']\n"
     ]
    },
    {
     "data": {
      "image/png": "[encoded data removed]",
      "text/plain": [
       "<Figure size 144x72 with 1 Axes>"
      ]
     },
     "metadata": {},
     "output_type": "display_data"
    }
   ],
   "source": [
    "rcParams['figure.figsize'] = 2,1\n",
    "spot_ids = [{'time':x[2], 'source':x[0], 'target':x[1]} for x in preprocessed_data]\n",
    "spot_ids = pd.DataFrame(spot_ids)\n",
    "graph = nx.DiGraph()\n",
    "paths_graph = nx.DiGraph()\n",
    "for t, spot in spot_ids.iterrows():\n",
    "    graph.add_edge(ord(spot['source'])-65, ord(spot['target'])-65, attr_dict=dict(t=t))\n",
    "def dfs(s): \n",
    "     \n",
    "    path.append(s) \n",
    "    visited[s] = True\n",
    "  \n",
    "    \n",
    "    if outdeg0[s] and indeg0[path[0]]: \n",
    "        temp_list = []\n",
    "        for x in path:\n",
    "            temp_list +=chr(x+65)\n",
    "        print(temp_list)\n",
    "        paths_graph.clear()\n",
    "        for i in range(len(path)):\n",
    "            try:\n",
    "                paths_graph.add_edge(chr(path[i]+65),chr(path[i+1]+65))\n",
    "            except:\n",
    "                pass\n",
    "        pos = nx.spring_layout(paths_graph)\n",
    "        nx.draw(paths_graph, pos, node_color=\"lightgrey\", with_labels=1)\n",
    "        plt.show()\n",
    "    \n",
    "    for node in adj[s]: \n",
    "        if not visited[node]: \n",
    "            dfs(node) \n",
    "    path.pop() \n",
    "    visited[s] = False\n",
    "  \n",
    "  \n",
    "def print_all_paths(n): \n",
    "    for i in range(n): \n",
    "  \n",
    "        if indeg0[i] and adj[i]: \n",
    "            path = [] \n",
    "            visited = [False] * (n + 1) \n",
    "            dfs(i)\n",
    "\n",
    "n = max(graph.nodes())\n",
    "\n",
    "visited = [False] * (n + 1) \n",
    "path = [] \n",
    "\n",
    "edges = graph.edges()\n",
    "\n",
    "adj = defaultdict(list) \n",
    "indeg0 = [True]*(n+1)\n",
    "outdeg0 = [True]*(n+1)\n",
    "  \n",
    "for edge in edges:\n",
    "    u, v = edge[0], edge[1] \n",
    "\n",
    "    adj[u].append(v) \n",
    "\n",
    "    indeg0[v] = False\n",
    "\n",
    "    outdeg0[u] = False\n",
    "print('Time respecting paths:') \n",
    "print_all_paths(n)"
   ]
  },
  {
   "cell_type": "code",
   "execution_count": 167,
   "metadata": {},
   "outputs": [],
   "source": [
    "network = preprocessed_data"
   ]
  },
  {
   "cell_type": "markdown",
   "metadata": {},
   "source": [
    "## Randomization of model - Module 5"
   ]
  },
  {
   "cell_type": "code",
   "execution_count": 168,
   "metadata": {},
   "outputs": [
    {
     "name": "stdout",
     "output_type": "stream",
     "text": [
      "Edge randomized model 1\n"
     ]
    },
    {
     "data": {
      "image/png": "[encoded data removed]",
      "text/plain": [
       "<Figure size 360x360 with 1 Axes>"
      ]
     },
     "metadata": {},
     "output_type": "display_data"
    },
    {
     "name": "stdout",
     "output_type": "stream",
     "text": [
      "Edge randomized model 2\n"
     ]
    },
    {
     "data": {
      "image/png": "[encoded data removed]",
      "text/plain": [
       "<Figure size 360x360 with 1 Axes>"
      ]
     },
     "metadata": {},
     "output_type": "display_data"
    },
    {
     "name": "stdout",
     "output_type": "stream",
     "text": [
      "Edge randomized model 3\n"
     ]
    },
    {
     "data": {
      "image/png": "[encoded data removed]",
      "text/plain": [
       "<Figure size 360x360 with 1 Axes>"
      ]
     },
     "metadata": {},
     "output_type": "display_data"
    },
    {
     "name": "stdout",
     "output_type": "stream",
     "text": [
      "Edge randomized model 4\n"
     ]
    },
    {
     "data": {
      "image/png": "[encoded data removed]",
      "text/plain": [
       "<Figure size 360x360 with 1 Axes>"
      ]
     },
     "metadata": {},
     "output_type": "display_data"
    },
    {
     "name": "stdout",
     "output_type": "stream",
     "text": [
      " {'B': 0.0591715976331361, 'A': 0.35502958579881655, 'C': 0.0, 'D': 0.0, 'E': 0.0591715976331361, 'F': 0.17751479289940827, 'G': 0.1183431952662722, 'H': 0.0, 'I': 0.0, 'J': 0.0}\n"
     ]
    }
   ],
   "source": [
    "def randomizeAndStudy(network, tracegraph):\n",
    "    timesSent = len(network)\n",
    "    nodedict = {}\n",
    "    graph1 = nx.DiGraph()\n",
    "    rcParams['figure.figsize'] = [5,5]\n",
    "    if len(list(tracegraph.edges())) !=1:\n",
    "        for _ in range(4):\n",
    "            print('Edge randomized model',_+1)\n",
    "            edge = tracegraph.edges()\n",
    "            for x in edge:\n",
    "                i,j = x[0],x[1]\n",
    "                iprime, jprime = x[0], x[1]\n",
    "                dup = list(edge).copy()\n",
    "                while (iprime, jprime) == (i,j):\n",
    "                    iprime,jprime = random.choice(dup)\n",
    "                randnum = random.randrange(0,2)\n",
    "                if randnum == 0:\n",
    "                    edge = [(i,jprime) if ele==(i,j) else ele for ele in edge]\n",
    "                    edge = [(iprime,j) if ele==(iprime,jprime) else ele for ele in edge]\n",
    "                else:\n",
    "                    edge = [(i,iprime) if ele==(i,j) else ele for ele in edge]\n",
    "                    edge = [(j,jprime) if ele==(iprime,jprime) else ele for ele in edge]\n",
    "            for x in edge:\n",
    "                graph1.add_edge(x[0], x[1])\n",
    "            pos =graphviz_layout(graph1, prog='dot')\n",
    "            nx.draw(graph1, pos, node_color=\"lightgrey\", with_labels=1)\n",
    "            plt.show()\n",
    "            graph1.clear()\n",
    "    else:\n",
    "        for x in tracegraph.edges():\n",
    "            graph1.add_edge(x[1],x[0])\n",
    "            pos =graphviz_layout(graph1, prog='dot')\n",
    "            nx.draw(graph1, pos, node_color=\"lightgrey\", with_labels=1)\n",
    "            plt.show()\n",
    "            graph1.clear()\n",
    "    for node in network:\n",
    "        nodedict[node[0]] = 0\n",
    "        nodedict[node[1]] = 0\n",
    "    for x in nodedict:\n",
    "        for node in network:\n",
    "            if node[0] == x:\n",
    "                nodedict[x] += 1\n",
    "            else:\n",
    "                pass\n",
    "    for x in nodedict:\n",
    "        nodedict[x] = (nodedict[x]/timesSent) * 100\n",
    "        if nodedict[x] != 0.0:\n",
    "            nodedict[x] = (nodedict[x]) / (timesSent*len(nodedict))\n",
    "    return nodedict\n",
    "module5out = randomizeAndStudy(network, tracegraph)\n",
    "print('',module5out)"
   ]
  },
  {
   "cell_type": "code",
   "execution_count": null,
   "metadata": {},
   "outputs": [],
   "source": []
  },
  {
   "cell_type": "markdown",
   "metadata": {},
   "source": [
    "## Simplification and Identification of spreaders - Module 6"
   ]
  },
  {
   "cell_type": "code",
   "execution_count": 169,
   "metadata": {},
   "outputs": [
    {
     "name": "stdout",
     "output_type": "stream",
     "text": [
      "Person  B  -  7.6923076923076925 %\n",
      "Person  A  -  46.15384615384615 %\n",
      "Person  C  -  0.0 %\n",
      "Person  D  -  0.0 %\n",
      "Person  E  -  7.6923076923076925 %\n",
      "Person  F  -  23.076923076923077 %\n",
      "Person  G  -  15.384615384615385 %\n",
      "Person  H  -  0.0 %\n",
      "Person  I  -  0.0 %\n",
      "Person  J  -  0.0 %\n",
      "\n",
      "Influential Spreader:\n",
      "B\n",
      "Important Spreader(s):\n",
      "A\n",
      "F\n"
     ]
    }
   ],
   "source": [
    "def identifyspreader(a,network):\n",
    "    module5out = a.copy()\n",
    "    zerocount = 0\n",
    "    if len(network) <=3:\n",
    "        print('The forward count of the message is not large enough to be considered as a rumour')\n",
    "        return\n",
    "    for x in module5out:\n",
    "        module5out[x] = module5out[x] * (len(module5out)*len(network))\n",
    "        print('Person ',x,' - ',module5out[x],'%')\n",
    "        if module5out[x] == 0.0:\n",
    "            zerocount += 1\n",
    "    mydict = {x:0 for x in module5out}\n",
    "    for x in mydict:\n",
    "        for node in network:\n",
    "            if node[1] == x:\n",
    "                mydict[x] += 1\n",
    "    print('\\nInfluential Spreader:')\n",
    "    for x in mydict:\n",
    "        if mydict[x] == 0:\n",
    "            print(x)\n",
    "            del module5out[x]\n",
    "    print('Important Spreader(s):')\n",
    "    for x in module5out:\n",
    "        if module5out[x] > 20.0:\n",
    "            print(x)\n",
    "    return\n",
    "identifyspreader(module5out,network)"
   ]
  },
  {
   "cell_type": "code",
   "execution_count": null,
   "metadata": {},
   "outputs": [],
   "source": []
  },
  {
   "cell_type": "code",
   "execution_count": null,
   "metadata": {},
   "outputs": [],
   "source": []
  },
  {
   "cell_type": "code",
   "execution_count": null,
   "metadata": {},
   "outputs": [],
   "source": []
  }
 ],
 "metadata": {
  "kernelspec": {
   "display_name": "Python 3",
   "language": "python",
   "name": "python3"
  },
  "language_info": {
   "codemirror_mode": {
    "name": "ipython",
    "version": 3
   },
   "file_extension": ".py",
   "mimetype": "text/x-python",
   "name": "python",
   "nbconvert_exporter": "python",
   "pygments_lexer": "ipython3",
   "version": "3.8.3"
  }
 },
 "nbformat": 4,
 "nbformat_minor": 4
}
